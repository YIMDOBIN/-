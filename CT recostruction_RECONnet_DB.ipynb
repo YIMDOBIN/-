{
 "cells": [
  {
   "cell_type": "code",
   "execution_count": 1,
   "metadata": {},
   "outputs": [],
   "source": [
    "### 라이브러리 임포트 ###\n",
    "\n",
    "from utils import l2_and_gradient_loss\n",
    "from tensorflow.keras.models import Sequential\n",
    "from tensorflow.keras.layers import Dense, Reshape, Conv2D, Conv2DTranspose\n",
    "from tensorflow.keras.optimizers import Adam\n",
    "import numpy as np\n",
    "from tensorflow import keras"
   ]
  },
  {
   "cell_type": "code",
   "execution_count": 2,
   "metadata": {},
   "outputs": [
    {
     "name": "stdout",
     "output_type": "stream",
     "text": [
      "Shape of result = (32512, 17100)\n",
      "Shape of result = (3584, 17100)\n"
     ]
    }
   ],
   "source": [
    "### import dataset ###\n",
    "\n",
    "x_train = np.load('/home/YIm/CT recon/train/X_train.npy')\n",
    "y_train = np.load('/home/YIm/CT recon/train/y_train.npy')\n",
    "x_test = np.load('/home/YIm/CT recon/train/X_test.npy')\n",
    "y_test = np.load('/home/YIm/CT recon/train/y_test.npy')\n",
    "\n",
    "print('Shape of result = ' + str(x_train.shape))\n",
    "print('Shape of result = ' + str(x_test.shape))"
   ]
  },
  {
   "cell_type": "code",
   "execution_count": 3,
   "metadata": {},
   "outputs": [],
   "source": [
    "def get_session():\n",
    "\n",
    "    gpu_fraction = 0.9\n",
    "    visible_device_list = 0,1\n",
    "    \n",
    "    gpu_options = tf.GPUOptions(per_process_gpu_memory_fraction=gpu_fraction,visible_device_list=visible_device_list)\n",
    "\n",
    "\n",
    "    return tf.Session(config=tf.ConfigProto(gpu_options=gpu_options))"
   ]
  },
  {
   "cell_type": "code",
   "execution_count": 4,
   "metadata": {
    "scrolled": false
   },
   "outputs": [],
   "source": [
    "### construct ###\n",
    "\n",
    "model = Sequential()\n",
    "\n",
    "model.add(Dense(64*64,input_shape=(17100,),activation='tanh'))\n",
    "model.add(Dense(64*64,activation='tanh'))\n",
    "model.add(Dense(64*64,activation='tanh'))\n",
    "\n",
    "model.add(Reshape((64,64,1),input_shape=(64*64,)))\n",
    "model.add(Conv2D(64,[5,5],padding='same',activation='relu'))\n",
    "model.add(Conv2D(64,[5,5],padding='same',activation='relu'))\n",
    "model.add(Conv2D(64,[5,5],padding='same',activation='relu'))\n",
    "model.add(Conv2D(64,[5,5],padding='same',activation='relu'))\n",
    "model.add(Conv2D(64,[5,5],padding='same',activation='relu'))\n",
    "model.add(Conv2D(64,[5,5],padding='same',activation='relu'))\n",
    "\n",
    "model.add(Conv2DTranspose(1,[7,7],padding='same'))"
   ]
  },
  {
   "cell_type": "code",
   "execution_count": 5,
   "metadata": {
    "scrolled": true
   },
   "outputs": [
    {
     "name": "stdout",
     "output_type": "stream",
     "text": [
      "Model: \"sequential\"\n",
      "_________________________________________________________________\n",
      "Layer (type)                 Output Shape              Param #   \n",
      "=================================================================\n",
      "dense (Dense)                (None, 4096)              70045696  \n",
      "_________________________________________________________________\n",
      "dense_1 (Dense)              (None, 4096)              16781312  \n",
      "_________________________________________________________________\n",
      "dense_2 (Dense)              (None, 4096)              16781312  \n",
      "_________________________________________________________________\n",
      "reshape (Reshape)            (None, 64, 64, 1)         0         \n",
      "_________________________________________________________________\n",
      "conv2d (Conv2D)              (None, 64, 64, 64)        1664      \n",
      "_________________________________________________________________\n",
      "conv2d_1 (Conv2D)            (None, 64, 64, 64)        102464    \n",
      "_________________________________________________________________\n",
      "conv2d_2 (Conv2D)            (None, 64, 64, 64)        102464    \n",
      "_________________________________________________________________\n",
      "conv2d_3 (Conv2D)            (None, 64, 64, 64)        102464    \n",
      "_________________________________________________________________\n",
      "conv2d_4 (Conv2D)            (None, 64, 64, 64)        102464    \n",
      "_________________________________________________________________\n",
      "conv2d_5 (Conv2D)            (None, 64, 64, 64)        102464    \n",
      "_________________________________________________________________\n",
      "conv2d_transpose (Conv2DTran (None, 64, 64, 1)         3137      \n",
      "=================================================================\n",
      "Total params: 104,125,441\n",
      "Trainable params: 104,125,441\n",
      "Non-trainable params: 0\n",
      "_________________________________________________________________\n"
     ]
    }
   ],
   "source": [
    "### visualization ###\n",
    "model.summary()"
   ]
  },
  {
   "cell_type": "code",
   "execution_count": 6,
   "metadata": {},
   "outputs": [],
   "source": [
    "model.compile(loss=l2_and_gradient_loss, optimizer=Adam(lr=0.0001))"
   ]
  },
  {
   "cell_type": "code",
   "execution_count": 7,
   "metadata": {
    "scrolled": false
   },
   "outputs": [
    {
     "name": "stdout",
     "output_type": "stream",
     "text": [
      "Train on 32512 samples, validate on 3584 samples\n",
   
    {
     "data": {
      "text/plain": [
       "<tensorflow.python.keras.callbacks.History at 0x7f30a8127f60>"
      ]
     },
     "execution_count": 7,
     "metadata": {},
     "output_type": "execute_result"
    }
   ],
   "source": [
    "model.fit(x_train, y_train, epochs=500, validation_data=(x_test, y_test))"
   ]
  },
  {
   "cell_type": "code",
   "execution_count": 23,
   "metadata": {},
   "outputs": [],
   "source": [
    "# weight save #\n",
    "model.save('/home/YIm/DATA/automap.hdf5')"
   ]
  },
  {
   "cell_type": "code",
   "execution_count": 2,
   "metadata": {},
   "outputs": [],
   "source": [
    "# -- #\n",
    "\n",
    "from tensorflow.keras.models import load_model\n",
    "import matplotlib.pyplot as plt"
   ]
  },
  {
   "cell_type": "code",
   "execution_count": 3,
   "metadata": {},
   "outputs": [],
   "source": [
    "model = load_model('/home/YIm/DATA/automap.hdf5',custom_objects= {'l2_and_gradient_loss': l2_and_gradient_loss})\n",
    "\n",
    "\n",
    "\n"
   ]
  },
  {
   "cell_type": "code",
   "execution_count": 4,
   "metadata": {},
   "outputs": [],
   "source": [
    "import cv2"
   ]
  },
  {
   "cell_type": "code",
   "execution_count": null,
   "metadata": {},
   "outputs": [],
   "source": [
    "#select = np.random.randint(x_test.shape[0], size=100)\n",
    "#pred = model.predict(x_test[select,:])\n",
    "\n",
    "import DBrecon2\n",
    "#for i in range(0,100):\n",
    "    #plt.figure()\n",
    "    #plt.subplot(131)\n",
    "    #plt.imshow(np.flipud(np.squeeze(pred[i,:,:])),cmap='gray')\n",
    "    #plt.xlabel('Output')\n",
    "    #plt.subplot(132)\n",
    "    #plt.imshow(np.flipud(np.squeeze(y_test[select[i],:,:])),cmap='gray')\n",
    "    #plt.xlabel('Ground truth')\n",
    "    #plt.subplot(133)\n",
    "    #plt.imshow(np.flipud(np.squeeze(np.abs(100*(pred[i,:,:]-y_test[select[i],:,:])/y_test[select[i],:,:]))),vmin=0,vmax=100,cmap='gray')\n",
    "    #plt.xlabel('Error map (%)')\n",
    "    #plt.show"
   ]
  },
  {
   "cell_type": "code",
   "execution_count": null,
   "metadata": {},
   "outputs": [],
   "source": []
  }
 ],
 "metadata": {
  "kernelspec": {
   "display_name": "Python 3",
   "language": "python",
   "name": "python3"
  },
  "language_info": {
   "codemirror_mode": {
    "name": "ipython",
    "version": 3
   },
   "file_extension": ".py",
   "mimetype": "text/x-python",
   "name": "python",
   "nbconvert_exporter": "python",
   "pygments_lexer": "ipython3",
   "version": "3.5.2"
  }
 },
 "nbformat": 4,
 "nbformat_minor": 2
}
